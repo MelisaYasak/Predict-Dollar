{
  "nbformat": 4,
  "nbformat_minor": 0,
  "metadata": {
    "colab": {
      "name": "Predict Dollar with Machine Learning",
      "provenance": [],
      "collapsed_sections": [],
      "mount_file_id": "1HOPUg9UbtALco_-PBQbUIV4iHpMCmQje",
      "authorship_tag": "ABX9TyMCpDgsULlLkH4+Wi1gTNJh",
      "include_colab_link": true
    },
    "kernelspec": {
      "name": "python3",
      "display_name": "Python 3"
    },
    "language_info": {
      "name": "python"
    }
  },
  "cells": [
    {
      "cell_type": "markdown",
      "metadata": {
        "id": "view-in-github",
        "colab_type": "text"
      },
      "source": [
        "<a href=\"https://colab.research.google.com/github/MelisaYasak/Predict-Dollar/blob/main/Predict_Dollar_with_Machine_Learning.ipynb\" target=\"_parent\"><img src=\"https://colab.research.google.com/assets/colab-badge.svg\" alt=\"Open In Colab\"/></a>"
      ]
    },
    {
      "cell_type": "code",
      "execution_count": null,
      "metadata": {
        "id": "sWCQkViXo4cP"
      },
      "outputs": [],
      "source": [
        "import numpy as np\n",
        "import pandas as pd\n",
        "import matplotlib.pyplot as plt\n",
        "from sklearn.linear_model import LinearRegression\n",
        "from sklearn.preprocessing import PolynomialFeatures\n",
        "from sklearn.metrics import mean_squared_error"
      ]
    },
    {
      "cell_type": "code",
      "source": [
        "from google.colab import drive\n",
        "drive.mount('/content/drive')"
      ],
      "metadata": {
        "id": "GKqL1hU7o9Ts",
        "colab": {
          "base_uri": "https://localhost:8080/"
        },
        "outputId": "f273dc20-1c80-4246-af1b-f717fe1a4953"
      },
      "execution_count": null,
      "outputs": [
        {
          "output_type": "stream",
          "name": "stdout",
          "text": [
            "Drive already mounted at /content/drive; to attempt to forcibly remount, call drive.mount(\"/content/drive\", force_remount=True).\n"
          ]
        }
      ]
    },
    {
      "cell_type": "code",
      "source": [
        "veriler = pd.read_csv(\"/content/drive/MyDrive/Colab Notebooks/usdtry.csv\")"
      ],
      "metadata": {
        "id": "-v13eWGTaAcC"
      },
      "execution_count": null,
      "outputs": []
    },
    {
      "cell_type": "code",
      "source": [
        "x = veriler.iloc[:,0:1]\n",
        "y = veriler.iloc[:,1:]\n",
        "\n",
        "X = x.values\n",
        "Y = y.values"
      ],
      "metadata": {
        "id": "JYDVNkC6pWUP"
      },
      "execution_count": null,
      "outputs": []
    },
    {
      "cell_type": "code",
      "source": [
        "print(x.shape)\n",
        "print(y.shape)"
      ],
      "metadata": {
        "colab": {
          "base_uri": "https://localhost:8080/"
        },
        "id": "DSgqtXR4rF9t",
        "outputId": "0c93741b-96e6-428b-d6d5-b45c4800dfe2"
      },
      "execution_count": null,
      "outputs": [
        {
          "output_type": "stream",
          "name": "stdout",
          "text": [
            "(263, 1)\n",
            "(263, 1)\n"
          ]
        }
      ]
    },
    {
      "cell_type": "code",
      "source": [
        "plt.scatter(X,Y,color=\"red\")\n",
        "plt.xlabel(\"Gün\") \n",
        "plt.ylabel(\"Kap. Fiyat\")\n",
        "plt.show()"
      ],
      "metadata": {
        "colab": {
          "base_uri": "https://localhost:8080/",
          "height": 279
        },
        "id": "7O_waWpOpclH",
        "outputId": "2960dfd8-b808-46fd-e0d2-14903d7d735a"
      },
      "execution_count": null,
      "outputs": [
        {
          "output_type": "display_data",
          "data": {
            "image/png": "[encoded data removed]",
            "text/plain": [
              "<Figure size 432x288 with 1 Axes>"
            ]
          },
          "metadata": {
            "needs_background": "light"
          }
        }
      ]
    },
    {
      "cell_type": "code",
      "source": [
        "linreg = LinearRegression()\n",
        "linreg.fit(X,Y)"
      ],
      "metadata": {
        "colab": {
          "base_uri": "https://localhost:8080/"
        },
        "id": "FgQUfq4lphc6",
        "outputId": "8caff5db-562f-44c3-f40c-adada2f64d13"
      },
      "execution_count": null,
      "outputs": [
        {
          "output_type": "execute_result",
          "data": {
            "text/plain": [
              "LinearRegression()"
            ]
          },
          "metadata": {},
          "execution_count": 63
        }
      ]
    },
    {
      "cell_type": "code",
      "source": [
        "plt.scatter(X,Y,color=\"red\")\n",
        "plt.plot(x,linreg.predict(X), color =\"green\")\n",
        "plt.xlabel(\"Gün\") \n",
        "plt.ylabel(\"Kap. Fiyat\")\n",
        "plt.title(\"Lineer Regresyon\")\n",
        "plt.show()"
      ],
      "metadata": {
        "colab": {
          "base_uri": "https://localhost:8080/",
          "height": 295
        },
        "id": "dio1J8NkpmP6",
        "outputId": "406455f6-f6f4-4399-90d9-7b83511bb4a3"
      },
      "execution_count": null,
      "outputs": [
        {
          "output_type": "display_data",
          "data": {
            "image/png": "[encoded data removed]",
            "text/plain": [
              "<Figure size 432x288 with 1 Axes>"
            ]
          },
          "metadata": {
            "needs_background": "light"
          }
        }
      ]
    },
    {
      "cell_type": "code",
      "source": [
        "print(\"Lineer Regresyon Tahmin:\",linreg.predict([[15]]))\n",
        "print(\"Lineer Regresyon Tahmin:\",linreg.predict([[300]]))"
      ],
      "metadata": {
        "colab": {
          "base_uri": "https://localhost:8080/"
        },
        "id": "vzN85q1AppR3",
        "outputId": "ed64c067-8752-4079-8bdf-fe462d502f56"
      },
      "execution_count": null,
      "outputs": [
        {
          "output_type": "stream",
          "name": "stdout",
          "text": [
            "Lineer Regresyon Tahmin: [[5.60549489]]\n",
            "Lineer Regresyon Tahmin: [[7.77495742]]\n"
          ]
        }
      ]
    },
    {
      "cell_type": "code",
      "source": [
        "print(Y[15])\n",
        "\n",
        "errors = mean_squared_error(Y[15], linreg.predict([[15]]))\n",
        "print(errors)"
      ],
      "metadata": {
        "colab": {
          "base_uri": "https://localhost:8080/"
        },
        "id": "K607f7AaqdcR",
        "outputId": "1b787507-04ce-48f4-edfd-5bbff3965b0a"
      },
      "execution_count": null,
      "outputs": [
        {
          "output_type": "stream",
          "name": "stdout",
          "text": [
            "[5.85852]\n",
            "0.06402170530489856\n"
          ]
        }
      ]
    },
    {
      "cell_type": "code",
      "source": [
        "polreg = PolynomialFeatures(degree=6)\n",
        "xpol = polreg.fit_transform(X)\n",
        "linreg = LinearRegression()\n",
        "linreg.fit(xpol,y)"
      ],
      "metadata": {
        "colab": {
          "base_uri": "https://localhost:8080/"
        },
        "id": "wHzO0wUkpsdX",
        "outputId": "3e8b8b66-fc9c-4d97-9628-5be2ad753599"
      },
      "execution_count": null,
      "outputs": [
        {
          "output_type": "execute_result",
          "data": {
            "text/plain": [
              "LinearRegression()"
            ]
          },
          "metadata": {},
          "execution_count": 67
        }
      ]
    },
    {
      "cell_type": "code",
      "source": [
        "plt.scatter(X,Y,color =\"red\")\n",
        "plt.plot(X,linreg.predict(polreg.fit_transform(X)), color = \"green\")\n",
        "plt.xlabel(\"Gün\") \n",
        "plt.ylabel(\"Kap. Fiyat\")\n",
        "plt.title(\"Polinomsal Regresyon\")  #(Derece:6)\n",
        "plt.show()\n"
      ],
      "metadata": {
        "colab": {
          "base_uri": "https://localhost:8080/",
          "height": 295
        },
        "id": "80CDdWusp0E3",
        "outputId": "b37f37de-0e2c-46c8-c939-a08615a44b5b"
      },
      "execution_count": null,
      "outputs": [
        {
          "output_type": "display_data",
          "data": {
            "image/png": "[encoded data removed]",
            "text/plain": [
              "<Figure size 432x288 with 1 Axes>"
            ]
          },
          "metadata": {
            "needs_background": "light"
          }
        }
      ]
    },
    {
      "cell_type": "code",
      "source": [
        "errorsPolReg = mean_squared_error(Y[15], linreg.predict(polreg.fit_transform([[15]])))\n",
        "print(errorsPolReg)"
      ],
      "metadata": {
        "colab": {
          "base_uri": "https://localhost:8080/"
        },
        "id": "n5pcW9fNp2hI",
        "outputId": "26ad9679-dbaa-400d-9917-1c765629442a"
      },
      "execution_count": null,
      "outputs": [
        {
          "output_type": "stream",
          "name": "stdout",
          "text": [
            "0.0003681644448204994\n"
          ]
        }
      ]
    },
    {
      "cell_type": "code",
      "source": [
        "print(\"Polinomsal Regresyon Tahmin:\",linreg.predict(polreg.fit_transform([[300]])))"
      ],
      "metadata": {
        "colab": {
          "base_uri": "https://localhost:8080/"
        },
        "id": "d8MESlwtp13Y",
        "outputId": "4278481c-768e-4d3e-9af3-c5d8ce445d24"
      },
      "execution_count": null,
      "outputs": [
        {
          "output_type": "stream",
          "name": "stdout",
          "text": [
            "Polinomsal Regresyon Tahmin: [[7.73054879]]\n"
          ]
        }
      ]
    }
  ]
}